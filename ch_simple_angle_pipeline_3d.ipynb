{
 "cells": [
  {
   "cell_type": "code",
   "execution_count": 1,
   "id": "initial_id",
   "metadata": {
    "collapsed": true,
    "ExecuteTime": {
     "end_time": "2024-05-03T09:33:18.036164Z",
     "start_time": "2024-05-03T09:33:17.986481Z"
    }
   },
   "outputs": [],
   "source": [
    "%load_ext autoreload\n",
    "%autoreload 2"
   ]
  },
  {
   "cell_type": "code",
   "execution_count": 2,
   "outputs": [],
   "source": [
    "import numpy as np\n",
    "import simple_angles_dataset_generator as simple_angles_gen\n",
    "from mcu_chamfer import MCUChamferModel\n",
    "import dataset_generator\n",
    "from mcu_experiments import MCUexperiments\n",
    "from mcu_plots import MCUplots"
   ],
   "metadata": {
    "collapsed": false,
    "ExecuteTime": {
     "end_time": "2024-05-03T09:33:19.851834Z",
     "start_time": "2024-05-03T09:33:19.017583Z"
    }
   },
   "id": "685050a50e84c743"
  },
  {
   "cell_type": "code",
   "execution_count": 3,
   "outputs": [],
   "source": [
    "figure_num = 16**3\n",
    "figure_point_cnt = 1000\n",
    "deterministic_param_scatter = False\n",
    "p = 3\n",
    "noise_level = 0\n",
    "lw = np.array([10, -75, 0])\n",
    "up = np.array([170, 75, 170])\n",
    "param_names = np.array([\"inside_angle\", \"rotation_angle_x\", \"rotation_angle_y\"])\n",
    "control_vars = dataset_generator.get_control_vars(deterministic=deterministic_param_scatter, dimensionality=p,\n",
    "                                                  size=figure_num,\n",
    "                                                  lw=lw, up=up)\n",
    "control_vars_dict = dataset_generator.put_control_vars_in_dict(control_vars, p, param_names)\n",
    "figures = dataset_generator.generate_array_of_figures(control_vars_dict, simple_angles_gen.generate_angles_points,\n",
    "                                                      noise_level=noise_level, min_num_points=figure_point_cnt)\n",
    "mcu_model = MCUChamferModel(k=10, c=0.1, figures=figures, params=control_vars, params_names=param_names)\n"
   ],
   "metadata": {
    "collapsed": false,
    "ExecuteTime": {
     "end_time": "2024-05-03T09:33:21.439608Z",
     "start_time": "2024-05-03T09:33:20.753038Z"
    }
   },
   "id": "d9fbf39ca30da3ce"
  },
  {
   "cell_type": "code",
   "execution_count": null,
   "outputs": [],
   "source": [
    "mcu_model.train(max_iters=100)\n",
    "print(f\"rre_median_embedding_vs_params: {mcu_model.compute_rre_median_embedding_vs_params()}\")"
   ],
   "metadata": {
    "collapsed": false,
    "is_executing": true,
    "ExecuteTime": {
     "start_time": "2024-05-03T09:33:22.262781Z"
    }
   },
   "id": "1f19197a3ef743a2"
  },
  {
   "cell_type": "code",
   "execution_count": null,
   "outputs": [],
   "source": [
    "mcu_plots = MCUplots(mcu_model)\n",
    "mcu_plots.plot_embeddings_vs_parameters(with_edges=False, annotate=True)\n",
    "mcu_plots.plot_embeddings_vs_parameters(with_edges=True, annotate=True)"
   ],
   "metadata": {
    "collapsed": false,
    "is_executing": true
   },
   "id": "94fb12257a8d1bc2"
  },
  {
   "cell_type": "code",
   "execution_count": null,
   "outputs": [],
   "source": [
    "mcu_experiments = MCUexperiments(mcu_model)\n",
    "interval_runs, intervals = mcu_experiments.test_predictive_optimization(lw, up, simple_angles_gen.generate_angles_points, figure_point_cnt = 200, noise_level = 0, pieces_cnt=5, test_data_size=20, same_value=False)"
   ],
   "metadata": {
    "collapsed": false,
    "is_executing": true
   },
   "id": "7c47f13182711f42"
  },
  {
   "cell_type": "code",
   "execution_count": null,
   "outputs": [],
   "source": [
    "interval_runs_base, intervals_base = mcu_experiments.test_predictive_optimization(lw, up, simple_angles_gen.generate_angles_points, figure_point_cnt = 200, noise_level = 0, pieces_cnt=5, test_data_size=20, same_value=False, baseline=True)"
   ],
   "metadata": {
    "collapsed": false,
    "is_executing": true
   },
   "id": "1849e20d48dbdee8"
  },
  {
   "cell_type": "code",
   "execution_count": null,
   "outputs": [],
   "source": [
    "fixed_params_map = {0: 2}\n",
    "mcu_plots.plot_2d_predictive_optimization_heatmaps(intervals, interval_runs, fixed_params_map,\n",
    "                                                   filename=f\"./images/ch_angle_3d_{fixed_params_map}.png\",\n",
    "                                                   title=\"Optimization\")\n",
    "mcu_plots.plot_2d_predictive_optimization_heatmaps(intervals_base, interval_runs_base, fixed_params_map,\n",
    "                                                   filename=f\"images/ch_angle_3d_{fixed_params_map}_base.png\")\n",
    "mcu_plots.plot_2d_predictive_optimization_heatmaps(intervals, interval_runs_base / interval_runs, fixed_params_map,\n",
    "                                                   filename=f\"images/ch_angle_3d_{fixed_params_map}_rel.png\",\n",
    "                                                   title=\"Relation: Baseline / Optimization\")"
   ],
   "metadata": {
    "collapsed": false
   },
   "id": "dc19327b022ba615"
  },
  {
   "cell_type": "code",
   "execution_count": null,
   "outputs": [],
   "source": [],
   "metadata": {
    "collapsed": false
   },
   "id": "98a4e162b6b97e9d"
  }
 ],
 "metadata": {
  "kernelspec": {
   "display_name": "Python 3",
   "language": "python",
   "name": "python3"
  },
  "language_info": {
   "codemirror_mode": {
    "name": "ipython",
    "version": 2
   },
   "file_extension": ".py",
   "mimetype": "text/x-python",
   "name": "python",
   "nbconvert_exporter": "python",
   "pygments_lexer": "ipython2",
   "version": "2.7.6"
  }
 },
 "nbformat": 4,
 "nbformat_minor": 5
}
